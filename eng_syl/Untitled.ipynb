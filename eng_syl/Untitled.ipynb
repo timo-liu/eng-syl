{
 "cells": [
  {
   "cell_type": "code",
   "execution_count": 1,
   "id": "1076178d-1e3e-45fa-851c-c5398e288f30",
   "metadata": {},
   "outputs": [],
   "source": [
    "from syllabify import Syllabel"
   ]
  },
  {
   "cell_type": "code",
   "execution_count": 2,
   "id": "98166a74-d2bf-4a76-93ae-d6d20ad0397d",
   "metadata": {},
   "outputs": [
    {
     "name": "stderr",
     "output_type": "stream",
     "text": [
      "C:\\Users\\Timo_L\\anaconda3\\envs\\syllabification-2024\\lib\\site-packages\\keras\\src\\layers\\core\\embedding.py:90: UserWarning: Argument `input_length` is deprecated. Just remove it.\n",
      "  warnings.warn(\n",
      "C:\\Users\\Timo_L\\anaconda3\\envs\\syllabification-2024\\lib\\site-packages\\keras\\src\\layers\\rnn\\bidirectional.py:107: UserWarning: Do not pass an `input_shape`/`input_dim` argument to a layer. When using Sequential models, prefer using an `Input(shape)` object as the first layer in the model instead.\n",
      "  super().__init__(**kwargs)\n"
     ]
    }
   ],
   "source": [
    "syllabler = Syllabel()"
   ]
  },
  {
   "cell_type": "code",
   "execution_count": 3,
   "id": "e0439000-fa17-41fc-ba47-fd4d99ec390b",
   "metadata": {},
   "outputs": [
    {
     "name": "stdout",
     "output_type": "stream",
     "text": [
      "h132el-lo-truc234k\n"
     ]
    }
   ],
   "source": [
    "print(syllabler.syllabify(\"\"))"
   ]
  },
  {
   "cell_type": "code",
   "execution_count": null,
   "id": "9e273af8-4c03-48e7-b718-793c058a5127",
   "metadata": {},
   "outputs": [],
   "source": []
  }
 ],
 "metadata": {
  "kernelspec": {
   "display_name": "Python 3 (ipykernel)",
   "language": "python",
   "name": "python3"
  },
  "language_info": {
   "codemirror_mode": {
    "name": "ipython",
    "version": 3
   },
   "file_extension": ".py",
   "mimetype": "text/x-python",
   "name": "python",
   "nbconvert_exporter": "python",
   "pygments_lexer": "ipython3",
   "version": "3.9.19"
  }
 },
 "nbformat": 4,
 "nbformat_minor": 5
}
