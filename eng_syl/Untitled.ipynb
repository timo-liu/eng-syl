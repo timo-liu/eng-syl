{
 "cells": [
  {
   "cell_type": "code",
   "execution_count": 1,
   "id": "1076178d-1e3e-45fa-851c-c5398e288f30",
   "metadata": {},
   "outputs": [],
   "source": [
    "from syllabify import Syllabel"
   ]
  },
  {
   "cell_type": "code",
   "execution_count": 2,
   "id": "98166a74-d2bf-4a76-93ae-d6d20ad0397d",
   "metadata": {},
   "outputs": [
    {
     "name": "stderr",
     "output_type": "stream",
     "text": [
      "C:\\Users\\Timo_L\\anaconda3\\envs\\syllabification-2024\\lib\\site-packages\\keras\\src\\layers\\core\\embedding.py:90: UserWarning: Argument `input_length` is deprecated. Just remove it.\n",
      "  warnings.warn(\n",
      "C:\\Users\\Timo_L\\anaconda3\\envs\\syllabification-2024\\lib\\site-packages\\keras\\src\\layers\\rnn\\bidirectional.py:107: UserWarning: Do not pass an `input_shape`/`input_dim` argument to a layer. When using Sequential models, prefer using an `Input(shape)` object as the first layer in the model instead.\n",
      "  super().__init__(**kwargs)\n"
     ]
    }
   ],
   "source": [
    "syllabler = Syllabel()"
   ]
  },
  {
   "cell_type": "code",
   "execution_count": 3,
   "id": "e0439000-fa17-41fc-ba47-fd4d99ec390b",
   "metadata": {},
   "outputs": [
    {
     "name": "stdout",
     "output_type": "stream",
     "text": [
      "h132el-lo-truc234k\n"
     ]
    }
   ],
   "source": [
    "print(syllabler.syllabify(\"\"))"
   ]
  },
  {
   "cell_type": "code",
   "execution_count": 2,
   "id": "9e273af8-4c03-48e7-b718-793c058a5127",
   "metadata": {},
   "outputs": [],
   "source": [
    "from onceler import Onceler"
   ]
  },
  {
   "cell_type": "code",
   "execution_count": 3,
   "id": "96cbc727-c4a3-43ef-8ffb-00330d7a1d8c",
   "metadata": {},
   "outputs": [
    {
     "name": "stderr",
     "output_type": "stream",
     "text": [
      "C:\\Users\\timoy\\anaconda3\\envs\\syllabification\\Lib\\site-packages\\keras\\src\\layers\\core\\embedding.py:90: UserWarning: Argument `input_length` is deprecated. Just remove it.\n",
      "  warnings.warn(\n",
      "C:\\Users\\timoy\\anaconda3\\envs\\syllabification\\Lib\\site-packages\\keras\\src\\layers\\rnn\\bidirectional.py:107: UserWarning: Do not pass an `input_shape`/`input_dim` argument to a layer. When using Sequential models, prefer using an `Input(shape)` object as the first layer in the model instead.\n",
      "  super().__init__(**kwargs)\n"
     ]
    }
   ],
   "source": [
    "o = Onceler()"
   ]
  },
  {
   "cell_type": "code",
   "execution_count": 4,
   "id": "880939e7-b3d8-471e-a4cd-7fd85deabc4c",
   "metadata": {},
   "outputs": [
    {
     "name": "stdout",
     "output_type": "stream",
     "text": [
      "p-a-pp\n"
     ]
    }
   ],
   "source": [
    "print(o.onc_split(\"papp\"))"
   ]
  },
  {
   "cell_type": "code",
   "execution_count": 5,
   "id": "a4ce46fb-1073-43ac-9304-4c2c7802f3ed",
   "metadata": {},
   "outputs": [],
   "source": [
    "from phonify import onc_to_phon"
   ]
  },
  {
   "cell_type": "code",
   "execution_count": 6,
   "id": "f9ac05f1-6afc-4720-9cba-899df72cb4a6",
   "metadata": {},
   "outputs": [],
   "source": [
    "op = onc_to_phon()"
   ]
  },
  {
   "cell_type": "code",
   "execution_count": 8,
   "id": "2c9811d3-a32a-4945-8f29-2e412018ce00",
   "metadata": {},
   "outputs": [
    {
     "name": "stdout",
     "output_type": "stream",
     "text": [
      "['p', 'æ', 'p']\n"
     ]
    }
   ],
   "source": [
    "print(op.ipafy(['p', 'a', 'pp']))"
   ]
  },
  {
   "cell_type": "code",
   "execution_count": null,
   "id": "e8003dac-924a-49c8-b791-83263e77c160",
   "metadata": {},
   "outputs": [],
   "source": []
  }
 ],
 "metadata": {
  "kernelspec": {
   "display_name": "Python 3 (ipykernel)",
   "language": "python",
   "name": "python3"
  },
  "language_info": {
   "codemirror_mode": {
    "name": "ipython",
    "version": 3
   },
   "file_extension": ".py",
   "mimetype": "text/x-python",
   "name": "python",
   "nbconvert_exporter": "python",
   "pygments_lexer": "ipython3",
   "version": "3.12.4"
  }
 },
 "nbformat": 4,
 "nbformat_minor": 5
}
